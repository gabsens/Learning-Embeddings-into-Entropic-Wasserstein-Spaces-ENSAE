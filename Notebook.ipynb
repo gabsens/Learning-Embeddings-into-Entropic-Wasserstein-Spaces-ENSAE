{
 "cells": [
  {
   "cell_type": "code",
   "execution_count": 1,
   "metadata": {},
   "outputs": [],
   "source": [
    "import numpy as np\n",
    "import matplotlib.pyplot as plt\n",
    "import random\n",
    "import itertools\n",
    "from gensim.models.word2vec import Text8Corpus\n",
    "from gensim.corpora import Dictionary\n",
    "import torch\n",
    "import torch.nn as nn\n",
    "import torch.nn.functional as F\n",
    "import torch.optim as optim"
   ]
  },
  {
   "cell_type": "markdown",
   "metadata": {},
   "source": [
    "We load the `text8` corpus. It is one very long succession of words. There are no sentence boundaries or punctuation marks."
   ]
  },
  {
   "cell_type": "code",
   "execution_count": 20,
   "metadata": {},
   "outputs": [
    {
     "data": {
      "text/plain": [
       "' anarchism originated as a term of abuse first used against early working class radicals including the diggers of the english revolution and the sans culottes of the french revolution whilst the term is still used in a pejorative way to describe any act that used violent means to destroy the organiz'"
      ]
     },
     "execution_count": 20,
     "metadata": {},
     "output_type": "execute_result"
    }
   ],
   "source": [
    "with open('./text8') as f:\n",
    "    s = f.read()\n",
    "s[:300]"
   ]
  },
  {
   "cell_type": "markdown",
   "metadata": {},
   "source": [
    "To split the corpus into sentences, it is convenient to use the `Text8Corpus` function from `gensim`. We choose to work with $1000$ words per sentence."
   ]
  },
  {
   "cell_type": "code",
   "execution_count": 4,
   "metadata": {},
   "outputs": [],
   "source": [
    "corpus = Text8Corpus('./text8', max_sentence_length=1000)\n",
    "sentences = list(itertools.islice(Text8Corpus('./text8', max_sentence_length=1000), None))"
   ]
  },
  {
   "cell_type": "markdown",
   "metadata": {},
   "source": [
    "As done in the paper we only keep the $8000$ most frequent words."
   ]
  },
  {
   "cell_type": "code",
   "execution_count": 5,
   "metadata": {},
   "outputs": [],
   "source": [
    "dct = Dictionary(corpus)\n",
    "dct.filter_extremes(no_below=1, no_above=0.5, keep_n=8000)"
   ]
  },
  {
   "cell_type": "markdown",
   "metadata": {},
   "source": [
    "We establish a correspondence between words and unique numeric identifiers. This makes it easy to build one-hot vectors afterwards."
   ]
  },
  {
   "cell_type": "code",
   "execution_count": 9,
   "metadata": {},
   "outputs": [],
   "source": [
    "sents2idx = [dct.doc2idx(sentence) for sentence in sentences]\n",
    "sents2idx = [[idx for idx in sent if idx != -1] for sent in sents2idx]\n",
    "sents_8k = [[dct[idx] for idx in sent] for sent in sents2idx]\n",
    "dct2 = Dictionary(sents_8k)\n",
    "sents2idx = [dct.doc2idx(sentence) for sentence in sents_8k]"
   ]
  },
  {
   "cell_type": "markdown",
   "metadata": {},
   "source": [
    "Here is what the first sentence of the corpus looks like (first 10 words only):"
   ]
  },
  {
   "cell_type": "code",
   "execution_count": 22,
   "metadata": {},
   "outputs": [
    {
     "data": {
      "text/plain": [
       "[193, 261, 1, 11, 83, 303, 53, 133, 90, 233]"
      ]
     },
     "execution_count": 22,
     "metadata": {},
     "output_type": "execute_result"
    }
   ],
   "source": [
    "sents2idx[0][:10]"
   ]
  },
  {
   "cell_type": "markdown",
   "metadata": {},
   "source": [
    "We pre-compute all the context windows for all the sentences in the corpus."
   ]
  },
  {
   "cell_type": "code",
   "execution_count": 12,
   "metadata": {},
   "outputs": [],
   "source": [
    "contexts_all = []\n",
    "for sent in sents2idx:\n",
    "    contexts_sent = []\n",
    "    for i in range(len(sent)):\n",
    "        context = []\n",
    "        for j in range(max(i-2,0), min(i+2, len(sent))):\n",
    "            context.append(sent[j])\n",
    "        contexts_sent.append((sent[i], context))\n",
    "    contexts_all.append(contexts_sent)"
   ]
  },
  {
   "cell_type": "markdown",
   "metadata": {},
   "source": [
    "Here is what the contexts for the first 10 words of the first sentence look like."
   ]
  },
  {
   "cell_type": "code",
   "execution_count": 23,
   "metadata": {},
   "outputs": [
    {
     "data": {
      "text/plain": [
       "[(193, [193, 261]),\n",
       " (261, [193, 261, 1]),\n",
       " (1, [193, 261, 1, 11]),\n",
       " (11, [261, 1, 11, 83]),\n",
       " (83, [1, 11, 83, 303]),\n",
       " (303, [11, 83, 303, 53]),\n",
       " (53, [83, 303, 53, 133]),\n",
       " (133, [303, 53, 133, 90]),\n",
       " (90, [53, 133, 90, 233]),\n",
       " (233, [133, 90, 233, 111])]"
      ]
     },
     "execution_count": 23,
     "metadata": {},
     "output_type": "execute_result"
    }
   ],
   "source": [
    "contexts_all[0][:10]"
   ]
  },
  {
   "cell_type": "markdown",
   "metadata": {},
   "source": [
    "We define a custom dataloader that creates the batches during training. Each batch is made of `bsize` sentences."
   ]
  },
  {
   "cell_type": "code",
   "execution_count": 15,
   "metadata": {},
   "outputs": [],
   "source": [
    "def loader(bsize):\n",
    "    idx_shuffle = np.random.permutation(len(sents2idx))\n",
    "    for i in range(0, len(sents2idx), bsize):\n",
    "        batch = []\n",
    "        for idx in idx_shuffle[i: min(i+bsize, len(sents2idx))]:\n",
    "            contexts = contexts_all[idx]\n",
    "            sent = sents2idx[idx]\n",
    "            contexts_enriched = []\n",
    "            for (token, context) in contexts:\n",
    "                negatives = []\n",
    "                for _ in range(len(context)):\n",
    "                    negative = random.choice(sent)  # Negative sampling happens here\n",
    "                    while negative in context:\n",
    "                        negative = random.choice(sent)\n",
    "                    negatives.append(negative)\n",
    "                contexts_enriched.append((token, context, negatives))\n",
    "            batch.append(contexts_enriched)\n",
    "        yield batch\n",
    "                "
   ]
  },
  {
   "cell_type": "markdown",
   "metadata": {},
   "source": [
    "Here is the code for the Sinkhorn iterations. We chose to implement vanilla iterations, but it would have been preferable to work in log-space."
   ]
  },
  {
   "cell_type": "code",
   "execution_count": null,
   "metadata": {},
   "outputs": [],
   "source": [
    "def cost_matrix(x, y, p=2):\n",
    "    x_col = x.unsqueeze(1)\n",
    "    y_lin = y.unsqueeze(0)\n",
    "    Dp = torch.sum((torch.abs(x_col - y_lin)) ** p, 2)\n",
    "    return Dp\n",
    "\n",
    "def sinkhorn_loss(x, y, lambd, M, p, niter):\n",
    "    Dp = cost_matrix(x, y, p)\n",
    "    K = torch.exp(-Dp / lambd)\n",
    "    c, u, v  = 1/M * torch.ones(M).cuda(), 1/M * torch.ones(M).cuda(), 1/M * torch.ones(M).cuda()\n",
    "    for i in range(niter):\n",
    "        r = u / torch.mv(K, c)\n",
    "        c = v / torch.mv(K.t(), r)\n",
    "    transport = torch.mm(torch.mm(torch.diag(r), K), torch.diag(c))\n",
    "    return torch.trace(torch.mm(Dp.t(), transport))"
   ]
  },
  {
   "cell_type": "markdown",
   "metadata": {},
   "source": [
    "We define the architecture for the neural network. The inputs are one-hot vectors of size $8000$ and the output is a $2M$ vector that will be reshaped as a cloud of $M$ points in $\\mathbb R^2$."
   ]
  },
  {
   "cell_type": "code",
   "execution_count": 14,
   "metadata": {},
   "outputs": [
    {
     "data": {
      "text/plain": [
       "Net(\n",
       "  (fc1): Linear(in_features=8000, out_features=64, bias=True)\n",
       "  (fc2): Linear(in_features=64, out_features=20, bias=True)\n",
       ")"
      ]
     },
     "execution_count": 14,
     "metadata": {},
     "output_type": "execute_result"
    }
   ],
   "source": [
    "M = 10\n",
    "\n",
    "class Net(nn.Module):\n",
    "    def __init__(self):\n",
    "        super(Net, self).__init__()\n",
    "        self.fc1 = nn.Linear(8000, 64)\n",
    "        self.fc2 = nn.Linear(64, 2*M)\n",
    "\n",
    "    def forward(self, x):\n",
    "        x = self.fc1(x)\n",
    "        x = self.fc2(x)\n",
    "        return x\n",
    "\n",
    "\n",
    "net = Net()\n",
    "net.cuda()"
   ]
  },
  {
   "cell_type": "code",
   "execution_count": 16,
   "metadata": {},
   "outputs": [],
   "source": [
    "optimizer = optim.Adam(net.parameters())"
   ]
  },
  {
   "cell_type": "code",
   "execution_count": 17,
   "metadata": {},
   "outputs": [],
   "source": [
    "def one_hot(n):\n",
    "    vect = torch.zeros(8000)\n",
    "    vect[n] = 1.0\n",
    "    return vect"
   ]
  },
  {
   "cell_type": "markdown",
   "metadata": {},
   "source": [
    "Next is our training loop. Please disregard the output of this cell. The network we trained was saved as `net.pth`. The training was done with a batch size of $1$ and we interrupted it after $4$ hours (the first epoch was far from over since the loop went through only $\\sim 3000$ sentences)."
   ]
  },
  {
   "cell_type": "code",
   "execution_count": null,
   "metadata": {},
   "outputs": [
    {
     "name": "stdout",
     "output_type": "stream",
     "text": [
      "starting batch\n",
      "finished sentence\n",
      "finished sentence\n",
      "finished sentence\n",
      "finished sentence\n",
      "finished sentence\n",
      "finished sentence\n",
      "finished sentence\n",
      "finished sentence\n",
      "finished sentence\n",
      "finished sentence\n",
      "finished sentence\n",
      "finished sentence\n",
      "finished sentence\n",
      "finished sentence\n",
      "finished sentence\n",
      "finished sentence\n",
      "finished sentence\n",
      "finished sentence\n",
      "finished sentence\n",
      "finished sentence\n",
      "finished sentence\n",
      "finished sentence\n",
      "finished sentence\n",
      "finished sentence\n"
     ]
    }
   ],
   "source": [
    "m = 1\n",
    "lambd = 0.05\n",
    "niter = 20\n",
    "bsize = 1\n",
    "epochs = 2\n",
    "\n",
    "for epoch in range(epochs):\n",
    "\n",
    "    running_loss = 0.0\n",
    "    for i, batch in enumerate(loader(bsize), 0):\n",
    "        optimizer.zero_grad()\n",
    "\n",
    "        loss = torch.zeros(1).cuda()\n",
    "        print(\"starting batch\")\n",
    "        for sent in batch:\n",
    "            for (token, context, negatives) in sent:\n",
    "                token_emb = net(one_hot(token).cuda()).view((M,2))\n",
    "                for positive in context:\n",
    "                    positive_emb = net(one_hot(positive).cuda()).view((M,2))\n",
    "                    loss += sinkhorn_loss(token_emb,positive_emb,lambd,M,2,niter) **2\n",
    "                for negative in negatives:\n",
    "                    negative_emb = net(one_hot(negative).cuda()).view((M,2))\n",
    "                    loss += F.relu(m-sinkhorn_loss(token_emb,negative_emb,lambd,M,2,niter)) **2\n",
    "            print(\"finished sentence\")\n",
    "        loss.backward()\n",
    "        optimizer.step()\n",
    "\n",
    "        # print statistics\n",
    "        running_loss += loss.item()\n",
    "        if 1:    \n",
    "            print('[%d, %5d] loss: %.3f' %\n",
    "                  (epoch + 1, i + 1, running_loss))\n",
    "            running_loss = 0.0\n",
    "\n",
    "print('Finished Training')"
   ]
  },
  {
   "cell_type": "code",
   "execution_count": 216,
   "metadata": {},
   "outputs": [
    {
     "name": "stderr",
     "output_type": "stream",
     "text": [
      "/home/h4ck314/.local/lib/python3.5/site-packages/torch/serialization.py:250: UserWarning: Couldn't retrieve source code for container of type Net. It won't be checked for correctness upon loading.\n",
      "  \"type \" + obj.__name__ + \". It won't be checked \"\n"
     ]
    }
   ],
   "source": [
    "torch.save(net, './net.pth')"
   ]
  },
  {
   "cell_type": "code",
   "execution_count": null,
   "metadata": {},
   "outputs": [],
   "source": [
    "net = torch.load('./net.pth')\n",
    "net.eval()"
   ]
  },
  {
   "cell_type": "code",
   "execution_count": 18,
   "metadata": {},
   "outputs": [
    {
     "data": {
      "image/png": "[encoded data removed]",
      "text/plain": [
       "<Figure size 576x576 with 1 Axes>"
      ]
     },
     "metadata": {
      "needs_background": "light"
     },
     "output_type": "display_data"
    }
   ],
   "source": [
    "with torch.no_grad():\n",
    "    test1 = net(one_hot(dct2.token2id['power']).cuda())\n",
    "    test2 = net(one_hot(dct2.token2id['earth']).cuda())\n",
    "    test3 = net(one_hot(dct2.token2id['mathematics']).cuda())\n",
    "    test4 = net(one_hot(dct2.token2id['preservation']).cuda())\n",
    "plt.figure(figsize=(8,8))\n",
    "plt.scatter(test1.view(M,2).t().cpu().numpy()[0], test1.view(M,2).t().cpu().numpy()[1], label='power')\n",
    "plt.scatter(test2.view(M,2).t().cpu().numpy()[0], test2.view(M,2).t().cpu().numpy()[1], label='earth')\n",
    "plt.scatter(test3.view(M,2).t().cpu().numpy()[0], test3.view(M,2).t().cpu().numpy()[1], label='mathematics')\n",
    "plt.scatter(test4.view(M,2).t().cpu().numpy()[0], test4.view(M,2).t().cpu().numpy()[1], label='preservation')\n",
    "plt.legend(loc='best')\n",
    "plt.savefig('plot1.eps', bbox_inches='tight')\n",
    "plt.show()"
   ]
  },
  {
   "cell_type": "code",
   "execution_count": 19,
   "metadata": {},
   "outputs": [
    {
     "data": {
      "image/png": "[encoded data removed]",
      "text/plain": [
       "<Figure size 576x576 with 1 Axes>"
      ]
     },
     "metadata": {
      "needs_background": "light"
     },
     "output_type": "display_data"
    }
   ],
   "source": [
    "with torch.no_grad():\n",
    "    test1 = net(one_hot(dct2.token2id['football']).cuda())\n",
    "    test2 = net(one_hot(dct2.token2id['basketball']).cuda())\n",
    "    test3 = net(one_hot(dct2.token2id['soccer']).cuda())\n",
    "    test4 = net(one_hot(dct2.token2id['rugby']).cuda())\n",
    "plt.figure(figsize=(8,8))\n",
    "plt.scatter(test1.view(M,2).t().cpu().numpy()[0], test1.view(M,2).t().cpu().numpy()[1], label='football')\n",
    "plt.scatter(test2.view(M,2).t().cpu().numpy()[0], test2.view(M,2).t().cpu().numpy()[1], label='basketball')\n",
    "plt.scatter(test3.view(M,2).t().cpu().numpy()[0], test3.view(M,2).t().cpu().numpy()[1], label='soccer')\n",
    "plt.scatter(test4.view(M,2).t().cpu().numpy()[0], test4.view(M,2).t().cpu().numpy()[1], label='rugby')\n",
    "plt.legend(loc='best')\n",
    "plt.savefig('plot2.eps', bbox_inches='tight')\n",
    "plt.show()"
   ]
  }
 ],
 "metadata": {
  "kernelspec": {
   "display_name": "Python 3",
   "language": "python",
   "name": "python3"
  },
  "language_info": {
   "codemirror_mode": {
    "name": "ipython",
    "version": 3
   },
   "file_extension": ".py",
   "mimetype": "text/x-python",
   "name": "python",
   "nbconvert_exporter": "python",
   "pygments_lexer": "ipython3",
   "version": "3.5.2"
  }
 },
 "nbformat": 4,
 "nbformat_minor": 2
}
